{
 "cells": [
  {
   "cell_type": "code",
   "execution_count": 1,
   "metadata": {},
   "outputs": [
    {
     "name": "stdout",
     "output_type": "stream",
     "text": [
      "Done.  1  games parsed\n"
     ]
    }
   ],
   "source": [
    "import chess.pgn\n",
    "import sys\n",
    "\n",
    "f1 = open('white_wins.txt', 'w')\n",
    "f2 = open('black_wins.txt', 'w')\n",
    "pgn = open(\"train.pgn\")\n",
    "n_games = 0\n",
    "\n",
    "while True:\n",
    "    game = chess.pgn.read_game(pgn)\n",
    "    try:\n",
    "        result = game.headers[\"Result\"]\n",
    "    except:\n",
    "        break\n",
    "\n",
    "    if result == \"1-0\":\n",
    "        n_games =+ 1\n",
    "        board = game.board()\n",
    "        for move in game.main_line():\n",
    "            board.push(move)\n",
    "            f1.write(str(board))\n",
    "            f1.write(\"\\n- - - - - - - -\\n\")\n",
    "        f1.write(\"\\n= = = = = = = =\\n\")\n",
    "    if result == \"0-1\":\n",
    "        n_games =+ 1\n",
    "        board = game.board()\n",
    "        for move in game.main_line():\n",
    "            board.push(move)\n",
    "            f2.write(str(board))\n",
    "            f2.write(\"\\n- - - - - - - -\\n\")\n",
    "        f2.write(\"\\n= = = = = = = =\\n\")\n",
    "\n",
    "f1.close()        \n",
    "f2.close()\n",
    "pgn.close()\n",
    "print(\"Done. \", n_games, \" games parsed\")"
   ]
  },
  {
   "cell_type": "code",
   "execution_count": null,
   "metadata": {
    "collapsed": true
   },
   "outputs": [],
   "source": []
  }
 ],
 "metadata": {
  "kernelspec": {
   "display_name": "Python 3",
   "language": "python",
   "name": "python3"
  },
  "language_info": {
   "codemirror_mode": {
    "name": "ipython",
    "version": 3
   },
   "file_extension": ".py",
   "mimetype": "text/x-python",
   "name": "python",
   "nbconvert_exporter": "python",
   "pygments_lexer": "ipython3",
   "version": "3.6.0"
  }
 },
 "nbformat": 4,
 "nbformat_minor": 2
}
