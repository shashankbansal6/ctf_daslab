{
 "cells": [
  {
   "cell_type": "code",
   "execution_count": 1,
   "metadata": {},
   "outputs": [
    {
     "name": "stdout",
     "output_type": "stream",
     "text": [
      "Done.  1  games parsed\n"
     ]
    }
   ],
   "source": [
    "import chess.pgn\n",
    "import sys\n",
    "\n",
    "f1 = open('white_wins.txt', 'w')\n",
    "f2 = open('black_wins.txt', 'w')\n",
    "pgn = open(\"train.pgn\")\n",
    "n_games = 0\n",
    "\n",
    "while True:\n",
    "    game = chess.pgn.read_game(pgn)\n",
    "    try:\n",
    "        result = game.headers[\"Result\"]\n",
    "    except:\n",
    "        break\n",
    "\n",
    "    if result == \"1-0\":\n",
    "        n_games =+ 1\n",
    "        board = game.board()\n",
    "        for move in game.main_line():\n",
    "            board.push(move)\n",
    "            f1.write(str(board))\n",
    "            f1.write(\"\\n- - - - - - - -\\n\")\n",
    "        f1.write(\"\\n= = = = = = = =\\n\")\n",
    "    if result == \"0-1\":\n",
    "        n_games =+ 1\n",
    "        board = game.board()\n",
    "        for move in game.main_line():\n",
    "            board.push(move)\n",
    "            f2.write(str(board))\n",
    "            f2.write(\"\\n- - - - - - - -\\n\")\n",
    "        f2.write(\"\\n= = = = = = = =\\n\")\n",
    "\n",
    "f1.close()        \n",
    "f2.close()\n",
    "pgn.close()\n",
    "print(\"Done. \", n_games, \" games parsed\")"
   ]
  },
  {
   "cell_type": "code",
   "execution_count": 2,
   "metadata": {},
   "outputs": [
    {
     "name": "stderr",
     "output_type": "stream",
     "text": [
      "C:\\Users\\Shashank\\Anaconda3\\lib\\site-packages\\h5py\\__init__.py:34: FutureWarning: Conversion of the second argument of issubdtype from `float` to `np.floating` is deprecated. In future, it will be treated as `np.float64 == np.dtype(float).type`.\n",
      "  from ._conv import register_converters as _register_converters\n"
     ]
    }
   ],
   "source": [
    "import tensorflow as tf\n",
    "white = open('white_wins.txt', 'r')\n",
    "black = open('black_wins.txt', 'r')\n",
    "\n"
   ]
  },
  {
   "cell_type": "code",
   "execution_count": 3,
   "metadata": {
    "scrolled": false
   },
   "outputs": [
    {
     "name": "stdout",
     "output_type": "stream",
     "text": [
      "r n b q k b n r\n",
      "\n",
      "p p p p p p p p\n",
      "\n",
      ". . . . . . . .\n",
      "\n",
      ". . . . . . . .\n",
      "\n",
      ". . . . P . . .\n",
      "\n",
      ". . . . . . . .\n",
      "\n",
      "P P P P . P P P\n",
      "\n",
      "R N B Q K B N R\n",
      "\n",
      "- - - - - - - -\n",
      "\n"
     ]
    }
   ],
   "source": [
    "import numpy as np\n",
    "\n",
    "i = 0\n",
    "for line in white:\n",
    "    print(line)\n",
    "    i += 1\n",
    "    if '-' in line or i == 9:\n",
    "        print(line)\n",
    "        break\n",
    "        \n",
    "# boardframe = np.zeros((1,7,8,8))\n",
    "# boardframe[0,1,:,:] = 1\n",
    "# print(boardframe[0,1,:,:])\n",
    "# print(boardframe)\n",
    "\n",
    "# tst = np.load(\"A00-139_first_10000.npz\")\n",
    "# boards = tst['arr_0']\n",
    "# targets = tst['arr_1']\n",
    "# print(boards.shape)\n",
    "# print(boards[0,1,:,:])\n",
    "# print(targets.shape)"
   ]
  },
  {
   "cell_type": "code",
   "execution_count": 26,
   "metadata": {},
   "outputs": [
    {
     "name": "stdout",
     "output_type": "stream",
     "text": [
      "[[[ 0  0  0  0  0  0  0  0]\n",
      "  [-1 -1 -1 -1 -1 -1 -1 -1]\n",
      "  [ 0  0  0  0  0  0  0  0]\n",
      "  [ 0  0  0  0  0  0  0  0]\n",
      "  [ 0  0  0  0  0  0  0  0]\n",
      "  [ 0  0  0  0  0  0  0  0]\n",
      "  [ 1  1  1  1  1  1  1  1]\n",
      "  [ 0  0  0  0  0  0  0  0]]\n",
      "\n",
      " [[-1  0  0  0  0  0  0 -1]\n",
      "  [ 0  0  0  0  0  0  0  0]\n",
      "  [ 0  0  0  0  0  0  0  0]\n",
      "  [ 0  0  0  0  0  0  0  0]\n",
      "  [ 0  0  0  0  0  0  0  0]\n",
      "  [ 0  0  0  0  0  0  0  0]\n",
      "  [ 0  0  0  0  0  0  0  0]\n",
      "  [ 1  0  0  0  0  0  0  1]]\n",
      "\n",
      " [[ 0 -1  0  0  0  0 -1  0]\n",
      "  [ 0  0  0  0  0  0  0  0]\n",
      "  [ 0  0  0  0  0  0  0  0]\n",
      "  [ 0  0  0  0  0  0  0  0]\n",
      "  [ 0  0  0  0  0  0  0  0]\n",
      "  [ 0  0  0  0  0  0  0  0]\n",
      "  [ 0  0  0  0  0  0  0  0]\n",
      "  [ 0  1  0  0  0  0  1  0]]\n",
      "\n",
      " [[ 0  0 -1  0  0 -1  0  0]\n",
      "  [ 0  0  0  0  0  0  0  0]\n",
      "  [ 0  0  0  0  0  0  0  0]\n",
      "  [ 0  0  0  0  0  0  0  0]\n",
      "  [ 0  0  0  0  0  0  0  0]\n",
      "  [ 0  0  0  0  0  0  0  0]\n",
      "  [ 0  0  0  0  0  0  0  0]\n",
      "  [ 0  0  1  0  0  1  0  0]]\n",
      "\n",
      " [[ 0  0  0 -1  0  0  0  0]\n",
      "  [ 0  0  0  0  0  0  0  0]\n",
      "  [ 0  0  0  0  0  0  0  0]\n",
      "  [ 0  0  0  0  0  0  0  0]\n",
      "  [ 0  0  0  0  0  0  0  0]\n",
      "  [ 0  0  0  0  0  0  0  0]\n",
      "  [ 0  0  0  0  0  0  0  0]\n",
      "  [ 0  0  0  1  0  0  0  0]]\n",
      "\n",
      " [[ 0  0  0  0 -1  0  0  0]\n",
      "  [ 0  0  0  0  0  0  0  0]\n",
      "  [ 0  0  0  0  0  0  0  0]\n",
      "  [ 0  0  0  0  0  0  0  0]\n",
      "  [ 0  0  0  0  0  0  0  0]\n",
      "  [ 0  0  0  0  0  0  0  0]\n",
      "  [ 0  0  0  0  0  0  0  0]\n",
      "  [ 0  0  0  0  1  0  0  0]]]\n"
     ]
    }
   ],
   "source": [
    "print(boards[0,:,])"
   ]
  }
 ],
 "metadata": {
  "kernelspec": {
   "display_name": "Python 3",
   "language": "python",
   "name": "python3"
  },
  "language_info": {
   "codemirror_mode": {
    "name": "ipython",
    "version": 3
   },
   "file_extension": ".py",
   "mimetype": "text/x-python",
   "name": "python",
   "nbconvert_exporter": "python",
   "pygments_lexer": "ipython3",
   "version": "3.6.0"
  }
 },
 "nbformat": 4,
 "nbformat_minor": 2
}
